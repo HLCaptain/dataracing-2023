{
 "cells": [
  {
   "cell_type": "markdown",
   "metadata": {},
   "source": [
    "# Dataracing Challenge 2023\n",
    "\n",
    "## Predicting loan"
   ]
  },
  {
   "cell_type": "code",
   "execution_count": 1,
   "metadata": {},
   "outputs": [
    {
     "name": "stderr",
     "output_type": "stream",
     "text": [
      "C:\\Users\\illya\\AppData\\Local\\Packages\\PythonSoftwareFoundation.Python.3.11_qbz5n2kfra8p0\\LocalCache\\local-packages\\Python311\\site-packages\\tqdm\\auto.py:21: TqdmWarning: IProgress not found. Please update jupyter and ipywidgets. See https://ipywidgets.readthedocs.io/en/stable/user_install.html\n",
      "  from .autonotebook import tqdm as notebook_tqdm\n",
      "C:\\Users\\illya\\AppData\\Local\\Packages\\PythonSoftwareFoundation.Python.3.11_qbz5n2kfra8p0\\LocalCache\\local-packages\\Python311\\site-packages\\dask\\dataframe\\_pyarrow_compat.py:23: UserWarning: You are using pyarrow version 14.0.0 which is known to be insecure. See https://www.cve.org/CVERecord?id=CVE-2023-47248 for further details. Please upgrade to pyarrow>=14.0.1 or install pyarrow-hotfix to patch your current version.\n",
      "  warnings.warn(\n"
     ]
    }
   ],
   "source": [
    "import pandas as pd\n",
    "import random\n",
    "import torch\n",
    "import lightning\n",
    "import optuna\n",
    "import sklearn\n",
    "import os\n",
    "import math\n",
    "import lightgbm as lgb\n",
    "from pandas import DataFrame\n",
    "from sklearn.model_selection import train_test_split\n",
    "from torch.utils.data import DataLoader\n",
    "from torch.utils.data.dataset import TensorDataset\n",
    "from lightning.pytorch.trainer.trainer import Trainer\n",
    "from lightning.pytorch.callbacks.early_stopping import EarlyStopping\n",
    "from lightning.pytorch.callbacks.model_checkpoint import ModelCheckpoint\n",
    "from lightning.pytorch.callbacks.prediction_writer import BasePredictionWriter\n",
    "from lightning.pytorch import loggers as pl_loggers\n",
    "from optuna.trial import Trial\n",
    "from optuna.study import Study"
   ]
  },
  {
   "cell_type": "code",
   "execution_count": 2,
   "metadata": {},
   "outputs": [],
   "source": [
    "rng = random.Random(\"BL6ADS\")\n",
    "os.environ[\"CUDA_LAUNCH_BLOCKING\"] = \"1\""
   ]
  },
  {
   "cell_type": "code",
   "execution_count": 3,
   "metadata": {},
   "outputs": [
    {
     "name": "stdout",
     "output_type": "stream",
     "text": [
      "  CONTRACT_ID BORROWER_ID CONTRACT_BANK_ID  CONTRACT_CREDIT_INTERMEDIARY  \\\n",
      "0    TpK8osXs    d8SqtuEV         1d42bbf5                           2.0   \n",
      "1    EtIEHrcH    lrdxML0g         1d42bbf5                           NaN   \n",
      "2    1G10DfKj    gII7nnq4         1d42bbf5                           2.0   \n",
      "3     2NLT774    MMkJ8z/e         1d42bbf5                           NaN   \n",
      "4    VpylRvay    M417onFP         1d42bbf5                           2.0   \n",
      "\n",
      "   CONTRACT_CREDIT_LOSS  CONTRACT_CURRENCY  CONTRACT_DATE_OF_LOAN_AGREEMENT  \\\n",
      "0                   0.0                 31                          2457052   \n",
      "1                   0.0                 31                          2457036   \n",
      "2               16350.0                 31                          2457043   \n",
      "3                   0.0                 31                          2457038   \n",
      "4                2395.0                 31                          2457091   \n",
      "\n",
      "   CONTRACT_DEPT_SERVICE_TO_INCOME CONTRACT_FREQUENCY_TYPE  CONTRACT_INCOME  \\\n",
      "0                              NaN                479a2e13              NaN   \n",
      "1                              NaN                479a2e13              NaN   \n",
      "2                             7.05                479a2e13         127305.0   \n",
      "3                              NaN                479a2e13              NaN   \n",
      "4                              NaN                479a2e13              NaN   \n",
      "\n",
      "   ...  CONTRACT_RISK_WEIGHTED_ASSETS  CONTRACT_TYPE_OF_INTEREST_REPAYMENT  \\\n",
      "0  ...                           1.00                                  NaN   \n",
      "1  ...                          74.17                                  NaN   \n",
      "2  ...                          74.77                             100003.0   \n",
      "3  ...                           0.99                                  NaN   \n",
      "4  ...                          74.30                             100002.0   \n",
      "\n",
      "   BORROWER_BIRTH_YEAR  BORROWER_CITIZENSHIP  BORROWER_COUNTRY  \\\n",
      "0               1217.0                  98.0              98.0   \n",
      "1                  NaN                   NaN               NaN   \n",
      "2               1199.0                  98.0              98.0   \n",
      "3               1221.0                  98.0              98.0   \n",
      "4               1260.0                  98.0              98.0   \n",
      "\n",
      "   BORROWER_COUNTY  BORROWER_TYPE_OF_CUSTOMER  BORROWER_TYPE_OF_SETTLEMENT  \\\n",
      "0             20.0                          A                          NaN   \n",
      "1              NaN                          A                          NaN   \n",
      "2            179.0                          A                          7.0   \n",
      "3              NaN                          A                          NaN   \n",
      "4            178.0                          A                          1.0   \n",
      "\n",
      "  TARGET_EVENT  TARGET_EVENT_DAY  \n",
      "0            -               NaN  \n",
      "1            -               NaN  \n",
      "2            -               NaN  \n",
      "3            -               NaN  \n",
      "4            -               NaN  \n",
      "\n",
      "[5 rows x 34 columns]\n"
     ]
    }
   ],
   "source": [
    "# CONTRACT_ID,BORROWER_ID,CONTRACT_BANK_ID,CONTRACT_CREDIT_INTERMEDIARY,CONTRACT_CREDIT_LOSS,CONTRACT_CURRENCY,CONTRACT_DATE_OF_LOAN_AGREEMENT,CONTRACT_DEPT_SERVICE_TO_INCOME,CONTRACT_FREQUENCY_TYPE,CONTRACT_INCOME,CONTRACT_INSTALMENT_AMOUNT,CONTRACT_INSTALMENT_AMOUNT_2,CONTRACT_INTEREST_PERIOD,CONTRACT_INTEREST_RATE,CONTRACT_LGD,CONTRACT_LOAN_AMOUNT,CONTRACT_LOAN_CONTRACT_TYPE,CONTRACT_LOAN_TO_VALUE_RATIO,CONTRACT_LOAN_TYPE,CONTRACT_MARKET_VALUE,CONTRACT_MATURITY_DATE,CONTRACT_MORTGAGE_LENDING_VALUE,CONTRACT_MORTGAGE_TYPE,CONTRACT_REFINANCED,CONTRACT_RISK_WEIGHTED_ASSETS,CONTRACT_TYPE_OF_INTEREST_REPAYMENT,BORROWER_BIRTH_YEAR,BORROWER_CITIZENSHIP,BORROWER_COUNTRY,BORROWER_COUNTY,BORROWER_TYPE_OF_CUSTOMER,BORROWER_TYPE_OF_SETTLEMENT,TARGET_EVENT,TARGET_EVENT_DAY\n",
    "# TpK8osXs,d8SqtuEV,1d42bbf5,2.0,0.0,31,2457052,,479a2e13,,9545.0,11059.0,,22.08,175424.0,192161,1,,69f70539,,2457798,,,1.0,1.0,,1217.0,98.0,98.0,20.0,A,,-,\n",
    "# EtIEHrcH,lrdxML0g,1d42bbf5,,0.0,31,2457036,,479a2e13,,9528.0,,,16.57,994868.0,55590,2,,b503a0de,,2457217,784680.0,5.0,,74.17,,,,,,A,,-,\n",
    "# 1G10DfKj,gII7nnq4,1d42bbf5,2.0,16350.0,31,2457043,7.05,479a2e13,127305.0,8899.0,8880.0,50.0,22.35,282553.0,275924,2,,b503a0de,,2458530,,,2.0,74.77,100003.0,1199.0,98.0,98.0,179.0,A,7.0,-,\n",
    "# 2NLT774,MMkJ8z/e,1d42bbf5,,0.0,31,2457038,,479a2e13,,14329.0,12966.0,,0.0,68981.0,138862,2,,b503a0de,,2457345,,,,0.99,,1221.0,98.0,98.0,,A,,-,\n",
    "# VpylRvay,M417onFP,1d42bbf5,2.0,2395.0,31,2457091,,479a2e13,,4003.0,3901.0,37.0,23.92,163319.0,169624,1,,69f70539,,2459648,,,2.0,74.3,100002.0,1260.0,98.0,98.0,178.0,A,1.0,-,\n",
    "# 5tsDwTjS,u9GRAuen,1d42bbf5,2.0,0.0,31,2457093,,479a2e13,,11214.0,10727.0,,35.12,74244.0,100079,2,,b503a0de,,2457393,,,2.0,0.98,,1204.0,98.0,98.0,,A,,-,\n",
    "# drZAWXaR,XPWFcJZI,1d42bbf5,,0.0,31,2457095,33.94,479a2e13,172647.0,10933.0,,,21.93,337632.0,338415,1,,69f70539,,2458556,,,,1.0,,,,,,A,,-,\n",
    "# ebtK6u+,L2Nu2zZe,1d42bbf5,2.0,0.0,31,2457046,,479a2e13,,11405.0,11423.0,,16.28,118161.0,140975,2,,b503a0de,,2457562,,,2.0,1.03,,1255.0,98.0,98.0,4.0,A,,-,\n",
    "# ffJh4MY,5A0GWOi2,1d42bbf5,2.0,0.0,31,2457049,,479a2e13,,6045.0,6008.0,,16.27,42047.0,60963,2,,b503a0de,,2457441,,,2.0,1.04,,1234.0,98.0,98.0,,A,,-,\n",
    "# eo09vYuo,lqPGd2+x,1d42bbf5,2.0,0.0,31,2457081,,479a2e13,,10431.0,10420.0,,21.66,170739.0,190782,1,,69f70539,,2457814,,,2.0,1.0,0.0,1228.0,98.0,98.0,3.0,A,,-,\n",
    "df = pd.read_csv('data/training_data.csv', sep=',', header=0, index_col=False)\n",
    "\n",
    "# Print few rows\n",
    "print(df.head())\n",
    "# df.describe()"
   ]
  },
  {
   "cell_type": "code",
   "execution_count": 4,
   "metadata": {},
   "outputs": [],
   "source": [
    "specidf = df[df['TARGET_EVENT']!='-'].copy()\n",
    "\n",
    "bdf=specidf[specidf['CONTRACT_DATE_OF_LOAN_AGREEMENT']<2457029]\n",
    "cdf=bdf.sort_values('TARGET_EVENT_DAY').head(1)\n",
    "\n",
    "specidf['MeddigBirta']=specidf['TARGET_EVENT_DAY']-specidf['CONTRACT_DATE_OF_LOAN_AGREEMENT']\n",
    "\n",
    "ddf=specidf[specidf['TARGET_EVENT']=='K']\n",
    "\n",
    "eltolas = df['CONTRACT_DATE_OF_LOAN_AGREEMENT'].min()\n",
    "\n",
    "df['CONTRACT_DATE_OF_LOAN_AGREEMENT']=df['CONTRACT_DATE_OF_LOAN_AGREEMENT']-eltolas\n",
    "\n",
    "df['TARGET_EVENT_DAY']=df['TARGET_EVENT_DAY']-eltolas"
   ]
  },
  {
   "cell_type": "code",
   "execution_count": 5,
   "metadata": {},
   "outputs": [],
   "source": [
    "# Transforms\n",
    "borrower_ids = {value: idx for idx, value in enumerate(df['BORROWER_ID'].unique())}\n",
    "borrower_ids_from_enum = {idx: value for idx, value in enumerate(df['BORROWER_ID'].unique())}\n",
    "\n",
    "# CONTRACT_ID - Enum\n",
    "def contract_id_enum_transform(df: DataFrame) -> DataFrame:\n",
    "    contract_ids = {value: idx for idx, value in enumerate(df['CONTRACT_ID'].unique())}\n",
    "    df['CONTRACT_ID'] = df['CONTRACT_ID'].map(contract_ids)\n",
    "    return df\n",
    "\n",
    "# BORROWER_ID - Enum\n",
    "def borrower_id_enum_transform(df: DataFrame) -> DataFrame:\n",
    "    df['BORROWER_ID'] = df['BORROWER_ID'].map(borrower_ids)\n",
    "    return df\n",
    "\n",
    "# CONTRACT_BANK_ID - Enum\n",
    "def contract_bank_id_enum_transform(df: DataFrame) -> DataFrame:\n",
    "    contract_bank_ids = {value: idx for idx, value in enumerate(df['CONTRACT_BANK_ID'].unique())}\n",
    "    df['CONTRACT_BANK_ID'] = df['CONTRACT_BANK_ID'].map(contract_bank_ids)\n",
    "    return df\n",
    "\n",
    "# CONTRACT_CREDIT_INTERMEDIARY - Enum\n",
    "def contract_credit_intermediary_enum_transform(df: DataFrame) -> DataFrame:\n",
    "    contract_credit_intermediary_ids = {value: idx for idx, value in enumerate(df['CONTRACT_CREDIT_INTERMEDIARY'].unique())}\n",
    "    df['CONTRACT_CREDIT_INTERMEDIARY'] = df['CONTRACT_CREDIT_INTERMEDIARY'].map(contract_credit_intermediary_ids)\n",
    "    return df\n",
    "\n",
    "# CONTRACT_CURRENCY - Enum\n",
    "def contract_currency_enum_transform(df: DataFrame) -> DataFrame:\n",
    "    contract_currency_ids = {value: idx for idx, value in enumerate(df['CONTRACT_CURRENCY'].unique())}\n",
    "    df['CONTRACT_CURRENCY'] = df['CONTRACT_CURRENCY'].map(contract_currency_ids)\n",
    "    return df\n",
    "\n",
    "# CONTRACT_FREQUENCY_TYPE - Enum\n",
    "def contract_frequency_type_enum_transform(df: DataFrame) -> DataFrame:\n",
    "    contract_frequency_type_ids = {value: idx for idx, value in enumerate(df['CONTRACT_FREQUENCY_TYPE'].unique())}\n",
    "    df['CONTRACT_FREQUENCY_TYPE'] = df['CONTRACT_FREQUENCY_TYPE'].map(contract_frequency_type_ids)\n",
    "    return df\n",
    "\n",
    "# CONTRACT_INCOME - Nan to 0\n",
    "def contract_income_nan_to_zero_transform(df: DataFrame) -> DataFrame:\n",
    "    df['CONTRACT_INCOME'] = df['CONTRACT_INCOME'].fillna(0)\n",
    "    return df\n",
    "\n",
    "# BORROWER_CITIZENSHIP - Float to Int\n",
    "def borrower_citizenship_int_transform(df: DataFrame) -> DataFrame:\n",
    "    df['BORROWER_CITIZENSHIP'] = df['BORROWER_CITIZENSHIP'].fillna(0).astype(int)\n",
    "    return df\n",
    "\n",
    "# BORROWER_COUNTRY - Float to Int\n",
    "def borrower_country_int_transform(df: DataFrame) -> DataFrame:\n",
    "    df['BORROWER_COUNTRY'] = df['BORROWER_COUNTRY'].fillna(0).astype(int)\n",
    "    return df\n",
    "\n",
    "# BORROWER_COUNTY - Float to Int\n",
    "def borrower_county_int_transform(df: DataFrame) -> DataFrame:\n",
    "    df['BORROWER_COUNTY'] = df['BORROWER_COUNTY'].fillna(0).astype(int)\n",
    "    return df\n",
    "\n",
    "# BORROWER_TYPE_OF_CUSTOMER - Enum\n",
    "def borrower_type_of_customer_enum_transform(df: DataFrame) -> DataFrame:\n",
    "    borrower_type_of_customer_ids = {value: idx for idx, value in enumerate(df['BORROWER_TYPE_OF_CUSTOMER'].unique())}\n",
    "    df['BORROWER_TYPE_OF_CUSTOMER'] = df['BORROWER_TYPE_OF_CUSTOMER'].map(borrower_type_of_customer_ids)\n",
    "    return df\n",
    "\n",
    "# BORROWER_TYPE_OF_SETTLEMENT - Enum\n",
    "def borrower_type_of_settlement_enum_transform(df: DataFrame) -> DataFrame:\n",
    "    borrower_type_of_settlement_ids = {value: idx for idx, value in enumerate(df['BORROWER_TYPE_OF_SETTLEMENT'].unique())}\n",
    "    df['BORROWER_TYPE_OF_SETTLEMENT'] = df['BORROWER_TYPE_OF_SETTLEMENT'].map(borrower_type_of_settlement_ids)\n",
    "    return df\n",
    "\n",
    "# TARGET_EVENT - Bool (1 if 'K', 0 otherwise)\n",
    "def target_event_bool_transform(df: DataFrame) -> DataFrame:\n",
    "    df['TARGET_EVENT'] = df['TARGET_EVENT'].map({'K': False, '': True, 'E': True}).astype(bool)\n",
    "    return df\n",
    "\n",
    "def df_to_32_bit_numeric_transform(df: DataFrame) -> DataFrame:\n",
    "    df = df.fillna(0.0)\n",
    "    for column in df.columns:\n",
    "        if df[column].dtype == pd.StringDtype:\n",
    "            # Enum transform\n",
    "            column_values = {value: idx for idx, value in enumerate(df[column].unique())}\n",
    "            df[column] = df[column].map(column_values).astype(pd.Int32Dtype())\n",
    "        if df[column].dtype == pd.Float64Dtype:\n",
    "            df[column] = df[column].astype(pd.Float32Dtype())\n",
    "        if df[column].dtype == pd.Int64Dtype:\n",
    "            df[column] = df[column].astype(pd.Int32Dtype())\n",
    "    return df\n",
    "\n",
    "def apply_transformations(tfs: list, df: DataFrame) -> DataFrame:\n",
    "    for tf in tfs:\n",
    "        df = tf(df)\n",
    "    return df"
   ]
  },
  {
   "cell_type": "code",
   "execution_count": 6,
   "metadata": {},
   "outputs": [],
   "source": [
    "def datagen_modeA(origdf,startnap, endnap):\n",
    "    df2 = origdf[origdf['CONTRACT_DATE_OF_LOAN_AGREEMENT']>=startnap].copy()\n",
    "    df1: DataFrame = df2[df2['CONTRACT_DATE_OF_LOAN_AGREEMENT']<endnap].copy()\n",
    "\n",
    "    feltetel=(df1['TARGET_EVENT_DAY']>endnap) & (df1['TARGET_EVENT_DAY']<endnap+2*365) & (df1['TARGET_EVENT']=='K')\n",
    "    df1['TARGET']=0\n",
    "    df1.loc[feltetel,'TARGET']=1\n",
    "\n",
    "    cust_df = df1\n",
    "    # stat = df1.groupby(\"BORROWER_ID\",as_index=False).agg({'TARGET':'max'})\n",
    "    # cust_df=cust_df.merge(stat,on='BORROWER_ID',how='left')\n",
    "    # cust_df['TARGET']=cust_df['TARGET'].fillna(0)\n",
    "\n",
    "    # stat = df1.groupby(\"BORROWER_ID\",as_index=False).agg(\n",
    "    #     {'CONTRACT_ID':'count','CONTRACT_LOAN_AMOUNT':'sum'})\n",
    "    # stat.columns=['BORROWER_ID','IN_CONTRACT_NUM','IN_LOAN_AMOUD_SUM']\n",
    "    # cust_df=cust_df.merge(stat,on='BORROWER_ID',how='left')\n",
    "\n",
    "    # We have target and filtering for specific days, merge TARGET with each BORROWER_ID and return the merged origdf dataframe\n",
    "\n",
    "    return df1"
   ]
  },
  {
   "cell_type": "code",
   "execution_count": 7,
   "metadata": {},
   "outputs": [
    {
     "name": "stdout",
     "output_type": "stream",
     "text": [
      "499724\n",
      "572943\n",
      "  CONTRACT_ID BORROWER_ID CONTRACT_BANK_ID  CONTRACT_CREDIT_INTERMEDIARY  \\\n",
      "0    TpK8osXs    d8SqtuEV         1d42bbf5                           2.0   \n",
      "1    EtIEHrcH    lrdxML0g         1d42bbf5                           NaN   \n",
      "2    1G10DfKj    gII7nnq4         1d42bbf5                           2.0   \n",
      "3     2NLT774    MMkJ8z/e         1d42bbf5                           NaN   \n",
      "4    VpylRvay    M417onFP         1d42bbf5                           2.0   \n",
      "\n",
      "   CONTRACT_CREDIT_LOSS  CONTRACT_CURRENCY  CONTRACT_DATE_OF_LOAN_AGREEMENT  \\\n",
      "0                   0.0                 31                               28   \n",
      "1                   0.0                 31                               12   \n",
      "2               16350.0                 31                               19   \n",
      "3                   0.0                 31                               14   \n",
      "4                2395.0                 31                               67   \n",
      "\n",
      "   CONTRACT_DEPT_SERVICE_TO_INCOME CONTRACT_FREQUENCY_TYPE  CONTRACT_INCOME  \\\n",
      "0                              NaN                479a2e13              NaN   \n",
      "1                              NaN                479a2e13              NaN   \n",
      "2                             7.05                479a2e13         127305.0   \n",
      "3                              NaN                479a2e13              NaN   \n",
      "4                              NaN                479a2e13              NaN   \n",
      "\n",
      "   ...  CONTRACT_TYPE_OF_INTEREST_REPAYMENT  BORROWER_BIRTH_YEAR  \\\n",
      "0  ...                                  NaN               1217.0   \n",
      "1  ...                                  NaN                  NaN   \n",
      "2  ...                             100003.0               1199.0   \n",
      "3  ...                                  NaN               1221.0   \n",
      "4  ...                             100002.0               1260.0   \n",
      "\n",
      "   BORROWER_CITIZENSHIP  BORROWER_COUNTRY  BORROWER_COUNTY  \\\n",
      "0                  98.0              98.0             20.0   \n",
      "1                   NaN               NaN              NaN   \n",
      "2                  98.0              98.0            179.0   \n",
      "3                  98.0              98.0              NaN   \n",
      "4                  98.0              98.0            178.0   \n",
      "\n",
      "   BORROWER_TYPE_OF_CUSTOMER  BORROWER_TYPE_OF_SETTLEMENT  TARGET_EVENT  \\\n",
      "0                          A                          NaN             -   \n",
      "1                          A                          NaN             -   \n",
      "2                          A                          7.0             -   \n",
      "3                          A                          NaN             -   \n",
      "4                          A                          1.0             -   \n",
      "\n",
      "  TARGET_EVENT_DAY  TARGET  \n",
      "0              NaN       0  \n",
      "1              NaN       0  \n",
      "2              NaN       0  \n",
      "3              NaN       0  \n",
      "4              NaN       0  \n",
      "\n",
      "[5 rows x 35 columns]\n",
      "     CONTRACT_ID BORROWER_ID CONTRACT_BANK_ID  CONTRACT_CREDIT_INTERMEDIARY  \\\n",
      "807     9pfhd-i-    hNtoGXNp         40cd7f95                           2.0   \n",
      "808     9pfhd-i-    pMe0cB1W         c2a40996                           2.0   \n",
      "1523    ymTHfIYY    ikLty/qt         2c6f5579                           2.0   \n",
      "1562    zofnylih    tpfVm2js         95842ce8                           2.0   \n",
      "2181    XK0F7bxn    XepgQvm8         1c1c77e5                           2.0   \n",
      "\n",
      "      CONTRACT_CREDIT_LOSS  CONTRACT_CURRENCY  \\\n",
      "807                    0.0                 31   \n",
      "808                    0.0                 31   \n",
      "1523              413439.0                 31   \n",
      "1562               37208.0                 31   \n",
      "2181                4086.0                 31   \n",
      "\n",
      "      CONTRACT_DATE_OF_LOAN_AGREEMENT  CONTRACT_DEPT_SERVICE_TO_INCOME  \\\n",
      "807                               759                             0.00   \n",
      "808                               759                             0.00   \n",
      "1523                              764                            11.17   \n",
      "1562                             1051                             0.00   \n",
      "2181                              967                            49.91   \n",
      "\n",
      "     CONTRACT_FREQUENCY_TYPE  CONTRACT_INCOME  ...  \\\n",
      "807                 87db11f5              0.0  ...   \n",
      "808                 87db11f5              0.0  ...   \n",
      "1523                479a2e13         235764.0  ...   \n",
      "1562                87db11f5              0.0  ...   \n",
      "2181                479a2e13         170251.0  ...   \n",
      "\n",
      "      CONTRACT_TYPE_OF_INTEREST_REPAYMENT  BORROWER_BIRTH_YEAR  \\\n",
      "807                              100004.0               1218.0   \n",
      "808                              100004.0               1218.0   \n",
      "1523                             100003.0               1243.0   \n",
      "1562                             100003.0               1252.0   \n",
      "2181                             140003.0               1252.0   \n",
      "\n",
      "      BORROWER_CITIZENSHIP  BORROWER_COUNTRY  BORROWER_COUNTY  \\\n",
      "807                   98.0              98.0             50.0   \n",
      "808                   98.0              98.0             50.0   \n",
      "1523                  98.0              98.0             72.0   \n",
      "1562                  98.0              98.0            120.0   \n",
      "2181                  98.0              98.0             19.0   \n",
      "\n",
      "      BORROWER_TYPE_OF_CUSTOMER  BORROWER_TYPE_OF_SETTLEMENT  TARGET_EVENT  \\\n",
      "807                           A                          0.0             -   \n",
      "808                           B                          0.0             -   \n",
      "1523                          A                          7.0             -   \n",
      "1562                          A                          3.0             -   \n",
      "2181                          A                          4.0             -   \n",
      "\n",
      "     TARGET_EVENT_DAY  TARGET  \n",
      "807               NaN       0  \n",
      "808               NaN       0  \n",
      "1523              NaN       0  \n",
      "1562              NaN       0  \n",
      "2181              NaN       0  \n",
      "\n",
      "[5 rows x 35 columns]\n"
     ]
    }
   ],
   "source": [
    "R1 = datagen_modeA(df,0,365)\n",
    "R2 = datagen_modeA(df,365*2,365*3)\n",
    "print(len(R1))\n",
    "print(len(R2))\n",
    "print(R1.head())\n",
    "print(R2.head())"
   ]
  },
  {
   "cell_type": "code",
   "execution_count": 8,
   "metadata": {},
   "outputs": [],
   "source": [
    "tfs = [\n",
    "    # contract_id_enum_transform,\n",
    "    # borrower_id_enum_transform,\n",
    "    # contract_bank_id_enum_transform,\n",
    "    contract_credit_intermediary_enum_transform,\n",
    "    # contract_currency_enum_transform,\n",
    "    contract_frequency_type_enum_transform,\n",
    "    # contract_income_nan_to_zero_transform,\n",
    "    # borrower_citizenship_int_transform,\n",
    "    # borrower_country_int_transform,\n",
    "    # borrower_county_int_transform,\n",
    "    borrower_type_of_customer_enum_transform,\n",
    "    borrower_type_of_settlement_enum_transform,\n",
    "    target_event_bool_transform,\n",
    "    df_to_32_bit_numeric_transform\n",
    "]\n",
    "\n",
    "keep_columns = [\n",
    "    # 'CONTRACT_BANK_ID',\n",
    "    'CONTRACT_CREDIT_INTERMEDIARY',\n",
    "    # 'CONTRACT_CURRENCY',\n",
    "    'CONTRACT_FREQUENCY_TYPE',\n",
    "    # 'CONTRACT_INCOME',\n",
    "    # 'BORROWER_CITIZENSHIP',\n",
    "    # 'BORROWER_COUNTRY',\n",
    "    # 'BORROWER_COUNTY',\n",
    "    'BORROWER_TYPE_OF_CUSTOMER',\n",
    "    'BORROWER_TYPE_OF_SETTLEMENT',\n",
    "    # 'TARGET_EVENT',\n",
    "    'TARGET',\n",
    "]\n",
    "\n",
    "original_df = df.copy()\n",
    "\n",
    "# df = apply_transformations(tfs, original_df.copy())[keep_columns]\n",
    "R1 = apply_transformations(tfs, R1.copy())[keep_columns]\n",
    "R2 = apply_transformations(tfs, R2.copy())[keep_columns]\n",
    "\n",
    "def get_train_test_split(df: DataFrame, train_size, test_size) -> list[DataFrame]:\n",
    "    return train_test_split(\n",
    "        df.drop(columns=['TARGET_EVENT']), # Drop target column from training data\n",
    "        df['TARGET_EVENT'], # Target column\n",
    "        random_state=42,\n",
    "        train_size=train_size,\n",
    "        test_size=test_size)"
   ]
  },
  {
   "cell_type": "code",
   "execution_count": 9,
   "metadata": {},
   "outputs": [
    {
     "name": "stdout",
     "output_type": "stream",
     "text": [
      "   CONTRACT_CREDIT_INTERMEDIARY  CONTRACT_FREQUENCY_TYPE  \\\n",
      "0                             0                        0   \n",
      "1                             1                        0   \n",
      "2                             0                        0   \n",
      "3                             1                        0   \n",
      "4                             0                        0   \n",
      "\n",
      "   BORROWER_TYPE_OF_CUSTOMER  BORROWER_TYPE_OF_SETTLEMENT  \n",
      "0                          0                            0  \n",
      "1                          0                            0  \n",
      "2                          0                            1  \n",
      "3                          0                            0  \n",
      "4                          0                            2  \n",
      "   TARGET\n",
      "0       0\n",
      "1       0\n",
      "2       0\n",
      "3       0\n",
      "4       0\n"
     ]
    }
   ],
   "source": [
    "train_df = R1.copy()\n",
    "test_df = R2.copy()\n",
    "train_x = train_df.drop(columns=['TARGET'])\n",
    "train_y = train_df['TARGET'].to_frame()\n",
    "test_x = test_df.drop(columns=['TARGET'])\n",
    "test_y = test_df['TARGET'].to_frame()\n",
    "print(train_x.head())\n",
    "print(train_y.head())\n",
    "# train_x, test_x, train_y, test_y = get_train_test_split(df, 160000, 40000)\n",
    "train_x_float = train_x.astype(float)\n",
    "test_x_float = test_x.astype(float)\n",
    "train_y_float = train_y.astype(float)\n",
    "test_y_float = test_y.astype(float)"
   ]
  },
  {
   "cell_type": "code",
   "execution_count": 10,
   "metadata": {},
   "outputs": [],
   "source": [
    "from lightning.pytorch.utilities.types import EVAL_DATALOADERS\n",
    "\n",
    "class PropertyDataModule(lightning.LightningDataModule):\n",
    "    def __init__(self, train_x, test_x, train_y, test_y, batch_size: int):\n",
    "        super().__init__()\n",
    "        self.batch_size = batch_size\n",
    "        self.train_x = train_x\n",
    "        self.test_x = test_x\n",
    "        self.train_y = train_y\n",
    "        self.test_y = test_y\n",
    "\n",
    "    def prepare_data(self) -> None:\n",
    "        self.train_x_tensor = torch.tensor(self.train_x.values, dtype=torch.float32)\n",
    "        self.test_x_tensor = torch.tensor(self.test_x.values, dtype=torch.float32)\n",
    "        self.train_y_tensor = torch.tensor(self.train_y.values, dtype=torch.float32)\n",
    "        self.test_y_tensor = torch.tensor(self.test_y.values, dtype=torch.float32)\n",
    "        self.train_dataset = TensorDataset(self.train_x_tensor, self.train_y_tensor)\n",
    "        self.test_dataset = TensorDataset(self.test_x_tensor, self.test_y_tensor)\n",
    "\n",
    "    def train_dataloader(self):\n",
    "        return DataLoader(self.train_dataset, batch_size=self.batch_size, shuffle=True, pin_memory=True, drop_last=True, persistent_workers=True, num_workers=os.cpu_count())\n",
    "\n",
    "    def val_dataloader(self):\n",
    "        return DataLoader(self.test_dataset, batch_size=self.batch_size, shuffle=False, pin_memory=True, drop_last=True, persistent_workers=True, num_workers=os.cpu_count())\n",
    "\n",
    "    def test_dataloader(self):\n",
    "        return DataLoader(self.test_dataset, batch_size=len(self.test_dataset.tensors), shuffle=False, pin_memory=True, drop_last=True, persistent_workers=True,num_workers=os.cpu_count())\n",
    "    def predict_dataloader(self):\n",
    "        return DataLoader(self.test_dataset, batch_size=len(self.test_dataset.tensors), shuffle=False, pin_memory=True, drop_last=True, persistent_workers=True, num_workers=os.cpu_count())"
   ]
  },
  {
   "cell_type": "code",
   "execution_count": 11,
   "metadata": {},
   "outputs": [],
   "source": [
    "from typing import Any\n",
    "\n",
    "class DeepNN(lightning.LightningModule):\n",
    "    def __init__(\n",
    "        self,\n",
    "        input_size: int,\n",
    "        output_size: int,\n",
    "        learning_rate: float):\n",
    "        super().__init__()\n",
    "        self.save_hyperparameters()\n",
    "\n",
    "        self.input_size = input_size\n",
    "        self.output_size = output_size\n",
    "        self.learning_rate = learning_rate\n",
    "\n",
    "        self.net = torch.nn.Sequential(\n",
    "            torch.nn.Linear(self.input_size, self.output_size),\n",
    "            torch.nn.Sigmoid()\n",
    "        )\n",
    "\n",
    "    def forward(self, x):\n",
    "        return self.net(x)\n",
    "\n",
    "    def configure_optimizers(self):\n",
    "        return torch.optim.Adam(self.parameters(), lr=self.learning_rate)\n",
    "\n",
    "    def training_step(self, batch, batch_idx):\n",
    "        x, y = batch\n",
    "        y_hat = self.forward(x)\n",
    "        y_hat = y_hat.squeeze()\n",
    "        loss = torch.nn.functional.binary_cross_entropy(y_hat, y)\n",
    "        self.log('train_loss', loss)\n",
    "        return loss\n",
    "\n",
    "    def validation_step(self, batch, batch_idx):\n",
    "        x, y = batch\n",
    "        y_hat = self.forward(x)\n",
    "        y_hat = y_hat.squeeze()\n",
    "        loss = torch.nn.functional.binary_cross_entropy(y_hat, y)\n",
    "        self.log('val_loss', loss)\n",
    "        return loss\n",
    "\n",
    "    def test_step(self, batch, batch_idx):\n",
    "        x, y = batch\n",
    "        y_hat = self.forward(x)\n",
    "        y_hat = y_hat.squeeze()\n",
    "        loss = torch.nn.functional.binary_cross_entropy(y_hat, y)\n",
    "        self.log('test_loss', loss)\n",
    "        # self.log('test_rocauc', roc_auc_score(y.cpu(), y_hat.cpu()))\n",
    "        return loss\n",
    "\n",
    "    def predict_step(self, batch, batch_idx, dataloader_idx=0):\n",
    "        x, y = batch\n",
    "        y_hat = self.forward(x)\n",
    "        y_hat = y_hat.squeeze()\n",
    "        return y_hat"
   ]
  },
  {
   "cell_type": "code",
   "execution_count": 12,
   "metadata": {},
   "outputs": [],
   "source": [
    "def trial_run(trial: Trial) -> float:\n",
    "    data_module = PropertyDataModule(batch_size=2**trial.suggest_int('batch_size', 4, 10), train_x=train_x_float, test_x=test_x_float, train_y=train_y_float, test_y=test_y_float)\n",
    "    early_stop_callback = EarlyStopping(\n",
    "        monitor='val_loss',\n",
    "        min_delta=0.001,\n",
    "        patience=10,\n",
    "        verbose=True,\n",
    "        mode='min'\n",
    "    )\n",
    "    checkpoint_callback = ModelCheckpoint(\n",
    "        monitor='val_loss',\n",
    "        dirpath='models/',\n",
    "        filename='loan_ml_prediction-{epoch}-{val_loss:.2f}',\n",
    "        save_top_k=1,\n",
    "        mode='min',\n",
    "    )\n",
    "    logger = pl_loggers.TensorBoardLogger('logs/', name='loan_ml_prediction')\n",
    "    net = DeepNN(\n",
    "        input_size=train_x.shape[1],\n",
    "        output_size=1,\n",
    "        learning_rate=trial.suggest_float('learning_rate', 1e-4, 1e-2, log=True),\n",
    "    )\n",
    "    trainer = Trainer(\n",
    "        max_epochs=100,\n",
    "        accelerator='gpu',\n",
    "        callbacks=[early_stop_callback, checkpoint_callback],\n",
    "        logger=logger,\n",
    "    )\n",
    "    trainer.fit(net, data_module)\n",
    "    trainer.test(net, datamodule=data_module)\n",
    "    loss = trainer.callback_metrics['test_loss'].item()\n",
    "    # rocauc = trainer.callback_metrics['test_rocauc'].item()\n",
    "    trial.set_user_attr('test_loss', loss)\n",
    "    # trial.set_user_attr('test_rocauc', rocauc)\n",
    "    # return loss / math.exp(rocauc)\n",
    "    return loss"
   ]
  },
  {
   "cell_type": "code",
   "execution_count": 13,
   "metadata": {},
   "outputs": [],
   "source": [
    "from sklearn.metrics import mean_squared_error\n",
    "\n",
    "best_gbm = None\n",
    "\n",
    "def trial_run_lgb(trial: Trial) -> float:\n",
    "    # Define the hyperparameters to be tuned\n",
    "    # Run on gpu\n",
    "    param = {\n",
    "        'objective': 'regression',\n",
    "        'metric': 'rmse',\n",
    "        'verbosity': -1,\n",
    "        'boosting_type': 'gbdt',\n",
    "        'lambda_l1': trial.suggest_float('lambda_l1', 1e-8, 10.0, log=True),\n",
    "        'lambda_l2': trial.suggest_float('lambda_l2', 1e-8, 10.0, log=True),\n",
    "        'num_leaves': trial.suggest_int('num_leaves', 2, 256),\n",
    "        'feature_fraction': trial.suggest_float('feature_fraction', 0.4, 1.0),\n",
    "        'bagging_fraction': trial.suggest_float('bagging_fraction', 0.4, 1.0),\n",
    "        'bagging_freq': trial.suggest_int('bagging_freq', 1, 7),\n",
    "        'min_child_samples': trial.suggest_int('min_child_samples', 5, 100),\n",
    "        'learning_rate': trial.suggest_float('learning_rate', 1e-4, 1e-2, log=True),\n",
    "        'max_depth': trial.suggest_int('max_depth', 3, 9),\n",
    "        'device': 'gpu',\n",
    "    }\n",
    "\n",
    "    # Create LightGBM dataset\n",
    "    if trial.number == 0:\n",
    "        print(train_x_float.head())\n",
    "        print(train_y_float.head())\n",
    "        print(test_x_float.head())\n",
    "        print(test_y_float.head())\n",
    "    train_data = lgb.Dataset(train_x_float, label=train_y_float)\n",
    "    valid_data = lgb.Dataset(test_x_float, label=test_y_float, reference=train_data)\n",
    "\n",
    "    # Callback to save the best model\n",
    "    def save_best_model_cb(env):\n",
    "        if env.iteration == env.end_iteration - 1:\n",
    "            # Save the model at the last iteration\n",
    "            best_loss = env.evaluation_result_list[0][2]  # Extract the loss\n",
    "            print(f\"Best Loss: {best_loss:.5f}\")\n",
    "            model_filename = f\"models/loan_ml_prediction-trial=0-val_loss={best_loss:.2f}.txt\"\n",
    "            env.model.save_model(model_filename)\n",
    "            print(f\"Best model saved to {model_filename}\")\n",
    "\n",
    "    # Train the model\n",
    "    model = lgb.train(param, train_data, valid_sets=[valid_data], callbacks=[save_best_model_cb])\n",
    "\n",
    "    # Make predictions and calculate loss\n",
    "    preds = model.predict(test_x_float, num_iteration=model.best_iteration)\n",
    "    loss = mean_squared_error(test_y_float, preds)\n",
    "\n",
    "    # Save the metrics\n",
    "    trial.set_user_attr('test_loss', loss)\n",
    "\n",
    "    global best_gbm\n",
    "    best_gbm = model\n",
    "\n",
    "    return loss"
   ]
  },
  {
   "cell_type": "code",
   "execution_count": 14,
   "metadata": {},
   "outputs": [
    {
     "name": "stderr",
     "output_type": "stream",
     "text": [
      "C:\\Users\\illya\\AppData\\Local\\Packages\\PythonSoftwareFoundation.Python.3.11_qbz5n2kfra8p0\\LocalCache\\local-packages\\Python311\\site-packages\\optuna\\samplers\\_tpe\\sampler.py:263: ExperimentalWarning: ``multivariate`` option is an experimental feature. The interface can change in the future.\n",
      "  warnings.warn(\n",
      "C:\\Users\\illya\\AppData\\Local\\Packages\\PythonSoftwareFoundation.Python.3.11_qbz5n2kfra8p0\\LocalCache\\local-packages\\Python311\\site-packages\\optuna\\samplers\\_tpe\\sampler.py:274: ExperimentalWarning: ``group`` option is an experimental feature. The interface can change in the future.\n",
      "  warnings.warn(\n",
      "\u001b[32m[I 2023-12-03 00:45:40,717]\u001b[0m A new study created in memory with name: no-name-62470658-a3af-414e-aff4-a216901fc7e7\u001b[0m\n"
     ]
    },
    {
     "name": "stdout",
     "output_type": "stream",
     "text": [
      "   CONTRACT_CREDIT_INTERMEDIARY  CONTRACT_FREQUENCY_TYPE  \\\n",
      "0                           0.0                      0.0   \n",
      "1                           1.0                      0.0   \n",
      "2                           0.0                      0.0   \n",
      "3                           1.0                      0.0   \n",
      "4                           0.0                      0.0   \n",
      "\n",
      "   BORROWER_TYPE_OF_CUSTOMER  BORROWER_TYPE_OF_SETTLEMENT  \n",
      "0                        0.0                          0.0  \n",
      "1                        0.0                          0.0  \n",
      "2                        0.0                          1.0  \n",
      "3                        0.0                          0.0  \n",
      "4                        0.0                          2.0  \n",
      "   TARGET\n",
      "0     0.0\n",
      "1     0.0\n",
      "2     0.0\n",
      "3     0.0\n",
      "4     0.0\n",
      "      CONTRACT_CREDIT_INTERMEDIARY  CONTRACT_FREQUENCY_TYPE  \\\n",
      "807                            0.0                      0.0   \n",
      "808                            0.0                      0.0   \n",
      "1523                           0.0                      1.0   \n",
      "1562                           0.0                      0.0   \n",
      "2181                           0.0                      1.0   \n",
      "\n",
      "      BORROWER_TYPE_OF_CUSTOMER  BORROWER_TYPE_OF_SETTLEMENT  \n",
      "807                         0.0                          0.0  \n",
      "808                         1.0                          0.0  \n",
      "1523                        0.0                          1.0  \n",
      "1562                        0.0                          2.0  \n",
      "2181                        0.0                          3.0  \n",
      "      TARGET\n",
      "807      0.0\n",
      "808      0.0\n",
      "1523     0.0\n",
      "1562     0.0\n",
      "2181     0.0\n",
      "Best Loss: 0.01207\n",
      "Best model saved to models/loan_ml_prediction-trial=0-val_loss=0.01.txt\n"
     ]
    },
    {
     "name": "stderr",
     "output_type": "stream",
     "text": [
      "\u001b[32m[I 2023-12-03 00:45:44,247]\u001b[0m Trial 0 finished with value: 0.0001456256420917047 and parameters: {'lambda_l1': 2.348881295853308e-05, 'lambda_l2': 3.6010467344475403, 'num_leaves': 188, 'feature_fraction': 0.759195090518222, 'bagging_fraction': 0.4936111842654619, 'bagging_freq': 2, 'min_child_samples': 10, 'learning_rate': 0.005399484409787433, 'max_depth': 7}. Best is trial 0 with value: 0.0001456256420917047.\u001b[0m\n"
     ]
    },
    {
     "name": "stdout",
     "output_type": "stream",
     "text": [
      "Best Loss: 0.01060\n",
      "Best model saved to models/loan_ml_prediction-trial=0-val_loss=0.01.txt\n"
     ]
    },
    {
     "name": "stderr",
     "output_type": "stream",
     "text": [
      "\u001b[32m[I 2023-12-03 00:45:47,283]\u001b[0m Trial 1 finished with value: 0.00011237015693537315 and parameters: {'lambda_l1': 0.023585940584142682, 'lambda_l2': 1.5320059381854043e-08, 'num_leaves': 249, 'feature_fraction': 0.899465584480253, 'bagging_fraction': 0.5274034664069657, 'bagging_freq': 2, 'min_child_samples': 22, 'learning_rate': 0.0004059611610484307, 'max_depth': 6}. Best is trial 1 with value: 0.00011237015693537315.\u001b[0m\n"
     ]
    },
    {
     "name": "stdout",
     "output_type": "stream",
     "text": [
      "Best Loss: 0.01286\n",
      "Best model saved to models/loan_ml_prediction-trial=0-val_loss=0.01.txt\n"
     ]
    },
    {
     "name": "stderr",
     "output_type": "stream",
     "text": [
      "\u001b[32m[I 2023-12-03 00:45:49,112]\u001b[0m Trial 2 finished with value: 0.00016547112452167627 and parameters: {'lambda_l1': 7.71800699380605e-05, 'lambda_l2': 4.17890272377219e-06, 'num_leaves': 158, 'feature_fraction': 0.4836963163912251, 'bagging_fraction': 0.5752867891211308, 'bagging_freq': 3, 'min_child_samples': 48, 'learning_rate': 0.0037183641805732083, 'max_depth': 4}. Best is trial 1 with value: 0.00011237015693537315.\u001b[0m\n"
     ]
    },
    {
     "name": "stdout",
     "output_type": "stream",
     "text": [
      "Best Loss: 0.01381\n",
      "Best model saved to models/loan_ml_prediction-trial=0-val_loss=0.01.txt\n"
     ]
    },
    {
     "name": "stderr",
     "output_type": "stream",
     "text": [
      "\u001b[32m[I 2023-12-03 00:45:50,225]\u001b[0m Trial 3 finished with value: 0.00019071810894177697 and parameters: {'lambda_l1': 0.00042472707398058225, 'lambda_l2': 0.0021465011216654484, 'num_leaves': 13, 'feature_fraction': 0.764526911140863, 'bagging_fraction': 0.502314474212375, 'bagging_freq': 1, 'min_child_samples': 96, 'learning_rate': 0.00853618986286683, 'max_depth': 8}. Best is trial 1 with value: 0.00011237015693537315.\u001b[0m\n"
     ]
    },
    {
     "name": "stdout",
     "output_type": "stream",
     "text": [
      "Best Loss: 0.01375\n",
      "Best model saved to models/loan_ml_prediction-trial=0-val_loss=0.01.txt\n"
     ]
    },
    {
     "name": "stderr",
     "output_type": "stream",
     "text": [
      "\u001b[32m[I 2023-12-03 00:45:51,550]\u001b[0m Trial 4 finished with value: 0.00018899689867532912 and parameters: {'lambda_l1': 5.514725787121931e-06, 'lambda_l2': 7.569183361880229e-08, 'num_leaves': 176, 'feature_fraction': 0.6640914962437607, 'bagging_fraction': 0.47322294090686734, 'bagging_freq': 4, 'min_child_samples': 8, 'learning_rate': 0.006586289317583112, 'max_depth': 4}. Best is trial 1 with value: 0.00011237015693537315.\u001b[0m\n",
      "\u001b[32m[I 2023-12-03 00:45:53,410]\u001b[0m Trial 5 finished with value: 0.00017745736010057618 and parameters: {'lambda_l1': 0.009176996354542699, 'lambda_l2': 6.388511557344611e-06, 'num_leaves': 134, 'feature_fraction': 0.7280261676059678, 'bagging_fraction': 0.5109126733153162, 'bagging_freq': 7, 'min_child_samples': 79, 'learning_rate': 0.007568292060167619, 'max_depth': 9}. Best is trial 1 with value: 0.00011237015693537315.\u001b[0m\n"
     ]
    },
    {
     "name": "stdout",
     "output_type": "stream",
     "text": [
      "Best Loss: 0.01332\n",
      "Best model saved to models/loan_ml_prediction-trial=0-val_loss=0.01.txt\n"
     ]
    },
    {
     "name": "stderr",
     "output_type": "stream",
     "text": [
      "\u001b[32m[I 2023-12-03 00:45:54,589]\u001b[0m Trial 6 finished with value: 0.00011322243420015845 and parameters: {'lambda_l1': 0.002404915432737351, 'lambda_l2': 1.9809253750493907, 'num_leaves': 24, 'feature_fraction': 0.5175897174514872, 'bagging_fraction': 0.4271363733463229, 'bagging_freq': 3, 'min_child_samples': 42, 'learning_rate': 0.00034889766548903674, 'max_depth': 8}. Best is trial 1 with value: 0.00011237015693537315.\u001b[0m\n"
     ]
    },
    {
     "name": "stdout",
     "output_type": "stream",
     "text": [
      "Best Loss: 0.01064\n",
      "Best model saved to models/loan_ml_prediction-trial=0-val_loss=0.01.txt\n"
     ]
    },
    {
     "name": "stderr",
     "output_type": "stream",
     "text": [
      "\u001b[32m[I 2023-12-03 00:45:55,334]\u001b[0m Trial 7 finished with value: 0.00015940604530854808 and parameters: {'lambda_l1': 1.6247252885719427e-05, 'lambda_l2': 3.376063348877853e-06, 'num_leaves': 140, 'feature_fraction': 0.4845545349848576, 'bagging_fraction': 0.8813181884524238, 'bagging_freq': 1, 'min_child_samples': 99, 'learning_rate': 0.0035033984911586884, 'max_depth': 4}. Best is trial 1 with value: 0.00011237015693537315.\u001b[0m\n"
     ]
    },
    {
     "name": "stdout",
     "output_type": "stream",
     "text": [
      "Best Loss: 0.01263\n",
      "Best model saved to models/loan_ml_prediction-trial=0-val_loss=0.01.txt\n"
     ]
    },
    {
     "name": "stderr",
     "output_type": "stream",
     "text": [
      "\u001b[32m[I 2023-12-03 00:45:57,294]\u001b[0m Trial 8 finished with value: 0.00011248812499566151 and parameters: {'lambda_l1': 1.1212412169964432e-08, 'lambda_l2': 0.2183498289760726, 'num_leaves': 182, 'feature_fraction': 0.8374043008245924, 'bagging_fraction': 0.8627622080115674, 'bagging_freq': 1, 'min_child_samples': 39, 'learning_rate': 0.0001705053926026929, 'max_depth': 9}. Best is trial 1 with value: 0.00011237015693537315.\u001b[0m\n"
     ]
    },
    {
     "name": "stdout",
     "output_type": "stream",
     "text": [
      "Best Loss: 0.01061\n",
      "Best model saved to models/loan_ml_prediction-trial=0-val_loss=0.01.txt\n"
     ]
    },
    {
     "name": "stderr",
     "output_type": "stream",
     "text": [
      "\u001b[32m[I 2023-12-03 00:45:58,519]\u001b[0m Trial 9 finished with value: 0.00021999996341140433 and parameters: {'lambda_l1': 0.004070831640873338, 'lambda_l2': 9.507847858536042e-06, 'num_leaves': 18, 'feature_fraction': 0.5865893930293973, 'bagging_fraction': 0.5951099932160482, 'bagging_freq': 6, 'min_child_samples': 66, 'learning_rate': 0.0059487468132197715, 'max_depth': 6}. Best is trial 1 with value: 0.00011237015693537315.\u001b[0m\n"
     ]
    },
    {
     "name": "stdout",
     "output_type": "stream",
     "text": [
      "Best Loss: 0.01483\n",
      "Best model saved to models/loan_ml_prediction-trial=0-val_loss=0.01.txt\n",
      "Best Loss: 0.01059\n",
      "Best model saved to models/loan_ml_prediction-trial=0-val_loss=0.01.txt\n"
     ]
    },
    {
     "name": "stderr",
     "output_type": "stream",
     "text": [
      "\u001b[32m[I 2023-12-03 00:46:01,018]\u001b[0m Trial 10 finished with value: 0.00011215576375698585 and parameters: {'lambda_l1': 3.63960983540563e-05, 'lambda_l2': 5.0019377942289456e-08, 'num_leaves': 199, 'feature_fraction': 0.8364357182011894, 'bagging_fraction': 0.49466295193167925, 'bagging_freq': 1, 'min_child_samples': 33, 'learning_rate': 0.00029972102673393107, 'max_depth': 8}. Best is trial 10 with value: 0.00011215576375698585.\u001b[0m\n",
      "\u001b[32m[I 2023-12-03 00:46:03,266]\u001b[0m Trial 11 finished with value: 0.00011212411990301643 and parameters: {'lambda_l1': 0.04411829539121718, 'lambda_l2': 7.397540995820901e-08, 'num_leaves': 212, 'feature_fraction': 0.8902922956651205, 'bagging_fraction': 0.5265616598248594, 'bagging_freq': 2, 'min_child_samples': 37, 'learning_rate': 0.00015471790878504498, 'max_depth': 7}. Best is trial 11 with value: 0.00011212411990301643.\u001b[0m\n"
     ]
    },
    {
     "name": "stdout",
     "output_type": "stream",
     "text": [
      "Best Loss: 0.01059\n",
      "Best model saved to models/loan_ml_prediction-trial=0-val_loss=0.01.txt\n",
      "Best Loss: 0.01060\n",
      "Best model saved to models/loan_ml_prediction-trial=0-val_loss=0.01.txt\n"
     ]
    },
    {
     "name": "stderr",
     "output_type": "stream",
     "text": [
      "\u001b[32m[I 2023-12-03 00:46:05,007]\u001b[0m Trial 12 finished with value: 0.00011245868146516071 and parameters: {'lambda_l1': 0.00018654328825484646, 'lambda_l2': 4.049925588065616e-06, 'num_leaves': 226, 'feature_fraction': 0.6692457494520749, 'bagging_fraction': 0.5621292937438105, 'bagging_freq': 1, 'min_child_samples': 41, 'learning_rate': 0.00013189769426805278, 'max_depth': 9}. Best is trial 11 with value: 0.00011212411990301643.\u001b[0m\n",
      "\u001b[32m[I 2023-12-03 00:46:07,267]\u001b[0m Trial 13 finished with value: 0.00011202575370316959 and parameters: {'lambda_l1': 7.681923468001186e-05, 'lambda_l2': 1.0622816088138677e-07, 'num_leaves': 243, 'feature_fraction': 0.9347294438855542, 'bagging_fraction': 0.5019817603406781, 'bagging_freq': 4, 'min_child_samples': 73, 'learning_rate': 0.00013332578157027142, 'max_depth': 8}. Best is trial 13 with value: 0.00011202575370316959.\u001b[0m\n"
     ]
    },
    {
     "name": "stdout",
     "output_type": "stream",
     "text": [
      "Best Loss: 0.01058\n",
      "Best model saved to models/loan_ml_prediction-trial=0-val_loss=0.01.txt\n",
      "Best Loss: 0.01058\n",
      "Best model saved to models/loan_ml_prediction-trial=0-val_loss=0.01.txt\n"
     ]
    },
    {
     "name": "stderr",
     "output_type": "stream",
     "text": [
      "\u001b[32m[I 2023-12-03 00:46:09,525]\u001b[0m Trial 14 finished with value: 0.0001119702420353706 and parameters: {'lambda_l1': 0.00021747260620991595, 'lambda_l2': 0.0007923371096815566, 'num_leaves': 218, 'feature_fraction': 0.9320788472292743, 'bagging_fraction': 0.442196419334517, 'bagging_freq': 4, 'min_child_samples': 85, 'learning_rate': 0.00014968065813857306, 'max_depth': 8}. Best is trial 14 with value: 0.0001119702420353706.\u001b[0m\n"
     ]
    },
    {
     "name": "stdout",
     "output_type": "stream",
     "text": [
      "Best Loss: 0.01060\n",
      "Best model saved to models/loan_ml_prediction-trial=0-val_loss=0.01.txt\n"
     ]
    },
    {
     "name": "stderr",
     "output_type": "stream",
     "text": [
      "\u001b[32m[I 2023-12-03 00:46:11,585]\u001b[0m Trial 15 finished with value: 0.00011237175705923851 and parameters: {'lambda_l1': 5.9604152969500836e-05, 'lambda_l2': 3.492800158127336e-06, 'num_leaves': 228, 'feature_fraction': 0.8556817337339987, 'bagging_fraction': 0.44781366031516934, 'bagging_freq': 5, 'min_child_samples': 72, 'learning_rate': 0.00011485127211932293, 'max_depth': 9}. Best is trial 14 with value: 0.0001119702420353706.\u001b[0m\n",
      "\u001b[32m[I 2023-12-03 00:46:13,890]\u001b[0m Trial 16 finished with value: 0.00011213246986279622 and parameters: {'lambda_l1': 0.04723831940377757, 'lambda_l2': 0.6026097839612347, 'num_leaves': 216, 'feature_fraction': 0.8828175736280576, 'bagging_fraction': 0.5530419467663515, 'bagging_freq': 4, 'min_child_samples': 51, 'learning_rate': 0.00013727188061603488, 'max_depth': 8}. Best is trial 14 with value: 0.0001119702420353706.\u001b[0m\n"
     ]
    },
    {
     "name": "stdout",
     "output_type": "stream",
     "text": [
      "Best Loss: 0.01059\n",
      "Best model saved to models/loan_ml_prediction-trial=0-val_loss=0.01.txt\n",
      "Best Loss: 0.01059\n",
      "Best model saved to models/loan_ml_prediction-trial=0-val_loss=0.01.txt\n"
     ]
    },
    {
     "name": "stderr",
     "output_type": "stream",
     "text": [
      "\u001b[32m[I 2023-12-03 00:46:15,229]\u001b[0m Trial 17 finished with value: 0.00011215141592536867 and parameters: {'lambda_l1': 1.9026326757224946e-05, 'lambda_l2': 0.00011182167981323548, 'num_leaves': 213, 'feature_fraction': 0.7901117623867442, 'bagging_fraction': 0.5893634173035144, 'bagging_freq': 1, 'min_child_samples': 99, 'learning_rate': 0.0001933625140014315, 'max_depth': 7}. Best is trial 14 with value: 0.0001119702420353706.\u001b[0m\n"
     ]
    },
    {
     "name": "stdout",
     "output_type": "stream",
     "text": [
      "Best Loss: 0.01057\n",
      "Best model saved to models/loan_ml_prediction-trial=0-val_loss=0.01.txt\n"
     ]
    },
    {
     "name": "stderr",
     "output_type": "stream",
     "text": [
      "\u001b[32m[I 2023-12-03 00:46:17,539]\u001b[0m Trial 18 finished with value: 0.00011175731476502075 and parameters: {'lambda_l1': 3.24985204909337e-08, 'lambda_l2': 1.1804296555263786e-05, 'num_leaves': 210, 'feature_fraction': 0.9732553181671488, 'bagging_fraction': 0.7126506005449209, 'bagging_freq': 5, 'min_child_samples': 45, 'learning_rate': 0.00027695331534056375, 'max_depth': 7}. Best is trial 18 with value: 0.00011175731476502075.\u001b[0m\n",
      "\u001b[32m[I 2023-12-03 00:46:19,747]\u001b[0m Trial 19 finished with value: 0.00011190142394896053 and parameters: {'lambda_l1': 9.5486241283483e-08, 'lambda_l2': 1.9673957624893336e-06, 'num_leaves': 210, 'feature_fraction': 0.8925895549209639, 'bagging_fraction': 0.7517389234932258, 'bagging_freq': 7, 'min_child_samples': 75, 'learning_rate': 0.00020347379446488718, 'max_depth': 7}. Best is trial 18 with value: 0.00011175731476502075.\u001b[0m\n"
     ]
    },
    {
     "name": "stdout",
     "output_type": "stream",
     "text": [
      "Best Loss: 0.01058\n",
      "Best model saved to models/loan_ml_prediction-trial=0-val_loss=0.01.txt\n"
     ]
    },
    {
     "name": "stderr",
     "output_type": "stream",
     "text": [
      "\u001b[32m[I 2023-12-03 00:46:21,601]\u001b[0m Trial 20 finished with value: 0.0001120639330487338 and parameters: {'lambda_l1': 2.9626007662099403e-06, 'lambda_l2': 1.0831183852484287e-08, 'num_leaves': 198, 'feature_fraction': 0.8316855106068939, 'bagging_fraction': 0.8198678012317246, 'bagging_freq': 7, 'min_child_samples': 75, 'learning_rate': 0.0005588723312459495, 'max_depth': 7}. Best is trial 18 with value: 0.00011175731476502075.\u001b[0m\n"
     ]
    },
    {
     "name": "stdout",
     "output_type": "stream",
     "text": [
      "Best Loss: 0.01059\n",
      "Best model saved to models/loan_ml_prediction-trial=0-val_loss=0.01.txt\n",
      "Best Loss: 0.01061\n",
      "Best model saved to models/loan_ml_prediction-trial=0-val_loss=0.01.txt\n"
     ]
    },
    {
     "name": "stderr",
     "output_type": "stream",
     "text": [
      "\u001b[32m[I 2023-12-03 00:46:24,532]\u001b[0m Trial 21 finished with value: 0.00011257228592115555 and parameters: {'lambda_l1': 1.1227117449618981e-08, 'lambda_l2': 1.4437028613090866e-05, 'num_leaves': 180, 'feature_fraction': 0.9020410891182242, 'bagging_fraction': 0.6089330310286574, 'bagging_freq': 5, 'min_child_samples': 17, 'learning_rate': 0.00011820041046166348, 'max_depth': 7}. Best is trial 18 with value: 0.00011175731476502075.\u001b[0m\n",
      "\u001b[32m[I 2023-12-03 00:46:26,518]\u001b[0m Trial 22 finished with value: 0.00011122717125680409 and parameters: {'lambda_l1': 2.8830118078998864e-06, 'lambda_l2': 0.0007265678804181218, 'num_leaves': 165, 'feature_fraction': 0.9150433781226668, 'bagging_fraction': 0.6290380961959622, 'bagging_freq': 5, 'min_child_samples': 62, 'learning_rate': 0.0007750825015458644, 'max_depth': 7}. Best is trial 22 with value: 0.00011122717125680409.\u001b[0m\n"
     ]
    },
    {
     "name": "stdout",
     "output_type": "stream",
     "text": [
      "Best Loss: 0.01055\n",
      "Best model saved to models/loan_ml_prediction-trial=0-val_loss=0.01.txt\n"
     ]
    },
    {
     "name": "stderr",
     "output_type": "stream",
     "text": [
      "\u001b[32m[I 2023-12-03 00:46:28,378]\u001b[0m Trial 23 finished with value: 0.00011131446776486445 and parameters: {'lambda_l1': 3.8847578794279925e-07, 'lambda_l2': 0.00032236073890334893, 'num_leaves': 136, 'feature_fraction': 0.9036594820091802, 'bagging_fraction': 0.6383908027822836, 'bagging_freq': 6, 'min_child_samples': 74, 'learning_rate': 0.00030271073689316675, 'max_depth': 6}. Best is trial 22 with value: 0.00011122717125680409.\u001b[0m\n"
     ]
    },
    {
     "name": "stdout",
     "output_type": "stream",
     "text": [
      "Best Loss: 0.01055\n",
      "Best model saved to models/loan_ml_prediction-trial=0-val_loss=0.01.txt\n",
      "Best Loss: 0.01059\n",
      "Best model saved to models/loan_ml_prediction-trial=0-val_loss=0.01.txt\n"
     ]
    },
    {
     "name": "stderr",
     "output_type": "stream",
     "text": [
      "\u001b[32m[I 2023-12-03 00:46:30,566]\u001b[0m Trial 24 finished with value: 0.00011216553741927548 and parameters: {'lambda_l1': 4.895442196979559e-07, 'lambda_l2': 0.004553847703778732, 'num_leaves': 101, 'feature_fraction': 0.9187450102609761, 'bagging_fraction': 0.5210094077528891, 'bagging_freq': 7, 'min_child_samples': 81, 'learning_rate': 0.0002174995007946845, 'max_depth': 5}. Best is trial 22 with value: 0.00011122717125680409.\u001b[0m\n"
     ]
    },
    {
     "name": "stdout",
     "output_type": "stream",
     "text": [
      "Best Loss: 0.01057\n",
      "Best model saved to models/loan_ml_prediction-trial=0-val_loss=0.01.txt\n"
     ]
    },
    {
     "name": "stderr",
     "output_type": "stream",
     "text": [
      "\u001b[32m[I 2023-12-03 00:46:33,613]\u001b[0m Trial 25 finished with value: 0.00011175012083336478 and parameters: {'lambda_l1': 5.55776079880822e-07, 'lambda_l2': 3.5979604004033364e-06, 'num_leaves': 168, 'feature_fraction': 0.9930568588746255, 'bagging_fraction': 0.7404987192181429, 'bagging_freq': 2, 'min_child_samples': 57, 'learning_rate': 0.00023630761312775112, 'max_depth': 6}. Best is trial 22 with value: 0.00011122717125680409.\u001b[0m\n"
     ]
    },
    {
     "name": "stdout",
     "output_type": "stream",
     "text": [
      "Best Loss: 0.01115\n",
      "Best model saved to models/loan_ml_prediction-trial=0-val_loss=0.01.txt\n"
     ]
    },
    {
     "name": "stderr",
     "output_type": "stream",
     "text": [
      "\u001b[32m[I 2023-12-03 00:46:36,728]\u001b[0m Trial 26 finished with value: 0.0001242766647080145 and parameters: {'lambda_l1': 3.935313027488045e-07, 'lambda_l2': 0.00451631061997902, 'num_leaves': 126, 'feature_fraction': 0.9564566433377969, 'bagging_fraction': 0.6520196514201686, 'bagging_freq': 4, 'min_child_samples': 69, 'learning_rate': 0.0025639828938346988, 'max_depth': 8}. Best is trial 22 with value: 0.00011122717125680409.\u001b[0m\n"
     ]
    },
    {
     "name": "stdout",
     "output_type": "stream",
     "text": [
      "Best Loss: 0.01054\n",
      "Best model saved to models/loan_ml_prediction-trial=0-val_loss=0.01.txt\n"
     ]
    },
    {
     "name": "stderr",
     "output_type": "stream",
     "text": [
      "\u001b[32m[I 2023-12-03 00:46:39,483]\u001b[0m Trial 27 finished with value: 0.00011116662389363848 and parameters: {'lambda_l1': 2.230614138557326e-07, 'lambda_l2': 1.2735379341475837e-07, 'num_leaves': 139, 'feature_fraction': 0.9317796721235405, 'bagging_fraction': 0.6166639225493482, 'bagging_freq': 3, 'min_child_samples': 67, 'learning_rate': 0.0006855155419848497, 'max_depth': 6}. Best is trial 27 with value: 0.00011116662389363848.\u001b[0m\n"
     ]
    },
    {
     "name": "stdout",
     "output_type": "stream",
     "text": [
      "Best Loss: 0.01060\n",
      "Best model saved to models/loan_ml_prediction-trial=0-val_loss=0.01.txt\n"
     ]
    },
    {
     "name": "stderr",
     "output_type": "stream",
     "text": [
      "\u001b[32m[I 2023-12-03 00:46:42,376]\u001b[0m Trial 28 finished with value: 0.00011233744867141222 and parameters: {'lambda_l1': 5.186957754802149e-05, 'lambda_l2': 3.6677323922053284e-08, 'num_leaves': 61, 'feature_fraction': 0.8822069554059268, 'bagging_fraction': 0.6430163403192385, 'bagging_freq': 2, 'min_child_samples': 60, 'learning_rate': 0.0011007528170805239, 'max_depth': 6}. Best is trial 27 with value: 0.00011116662389363848.\u001b[0m\n"
     ]
    },
    {
     "name": "stdout",
     "output_type": "stream",
     "text": [
      "Best Loss: 0.01058\n",
      "Best model saved to models/loan_ml_prediction-trial=0-val_loss=0.01.txt\n"
     ]
    },
    {
     "name": "stderr",
     "output_type": "stream",
     "text": [
      "\u001b[32m[I 2023-12-03 00:46:44,705]\u001b[0m Trial 29 finished with value: 0.00011184381474010213 and parameters: {'lambda_l1': 0.00044487519420466966, 'lambda_l2': 6.188084267190813e-07, 'num_leaves': 93, 'feature_fraction': 0.9255265153172818, 'bagging_fraction': 0.7056241859213219, 'bagging_freq': 5, 'min_child_samples': 90, 'learning_rate': 0.00034960986410200573, 'max_depth': 5}. Best is trial 27 with value: 0.00011116662389363848.\u001b[0m\n"
     ]
    },
    {
     "name": "stdout",
     "output_type": "stream",
     "text": [
      "Best Loss: 0.01058\n",
      "Best model saved to models/loan_ml_prediction-trial=0-val_loss=0.01.txt\n"
     ]
    },
    {
     "name": "stderr",
     "output_type": "stream",
     "text": [
      "\u001b[32m[I 2023-12-03 00:46:47,157]\u001b[0m Trial 30 finished with value: 0.00011190520272734632 and parameters: {'lambda_l1': 1.5852607480044444e-05, 'lambda_l2': 0.5090657384309466, 'num_leaves': 202, 'feature_fraction': 0.7568747209991928, 'bagging_fraction': 0.738936853143958, 'bagging_freq': 5, 'min_child_samples': 55, 'learning_rate': 0.0007244508581532878, 'max_depth': 6}. Best is trial 27 with value: 0.00011116662389363848.\u001b[0m\n"
     ]
    },
    {
     "name": "stdout",
     "output_type": "stream",
     "text": [
      "Best Loss: 0.01056\n",
      "Best model saved to models/loan_ml_prediction-trial=0-val_loss=0.01.txt\n"
     ]
    },
    {
     "name": "stderr",
     "output_type": "stream",
     "text": [
      "\u001b[32m[I 2023-12-03 00:46:49,828]\u001b[0m Trial 31 finished with value: 0.00011144392331788733 and parameters: {'lambda_l1': 1.935372304326874e-06, 'lambda_l2': 2.551362836925771e-07, 'num_leaves': 165, 'feature_fraction': 0.8870238317224874, 'bagging_fraction': 0.8280548326770286, 'bagging_freq': 2, 'min_child_samples': 59, 'learning_rate': 0.00025079559267023337, 'max_depth': 5}. Best is trial 27 with value: 0.00011116662389363848.\u001b[0m\n",
      "\u001b[32m[I 2023-12-03 00:46:50,536]\u001b[0m Trial 32 finished with value: 0.00011411742420759062 and parameters: {'lambda_l1': 4.9771314294149195e-08, 'lambda_l2': 3.614696940614912e-08, 'num_leaves': 115, 'feature_fraction': 0.7596869981903341, 'bagging_fraction': 0.7420802999127177, 'bagging_freq': 1, 'min_child_samples': 64, 'learning_rate': 0.00011609231677714514, 'max_depth': 3}. Best is trial 27 with value: 0.00011116662389363848.\u001b[0m\n"
     ]
    },
    {
     "name": "stdout",
     "output_type": "stream",
     "text": [
      "Best Loss: 0.01068\n",
      "Best model saved to models/loan_ml_prediction-trial=0-val_loss=0.01.txt\n"
     ]
    },
    {
     "name": "stderr",
     "output_type": "stream",
     "text": [
      "\u001b[32m[I 2023-12-03 00:46:51,941]\u001b[0m Trial 33 finished with value: 0.00011372776534217988 and parameters: {'lambda_l1': 1.9024443129465096e-08, 'lambda_l2': 2.9787929303960524e-07, 'num_leaves': 64, 'feature_fraction': 0.8161055049666726, 'bagging_fraction': 0.5653384462887685, 'bagging_freq': 4, 'min_child_samples': 66, 'learning_rate': 0.0005049106443764013, 'max_depth': 5}. Best is trial 27 with value: 0.00011116662389363848.\u001b[0m\n"
     ]
    },
    {
     "name": "stdout",
     "output_type": "stream",
     "text": [
      "Best Loss: 0.01066\n",
      "Best model saved to models/loan_ml_prediction-trial=0-val_loss=0.01.txt\n"
     ]
    },
    {
     "name": "stderr",
     "output_type": "stream",
     "text": [
      "\u001b[32m[I 2023-12-03 00:46:53,274]\u001b[0m Trial 34 finished with value: 0.00011700703775906656 and parameters: {'lambda_l1': 2.7418446085396053e-05, 'lambda_l2': 2.1358137683177968e-07, 'num_leaves': 237, 'feature_fraction': 0.8101271881718283, 'bagging_fraction': 0.7730272065318098, 'bagging_freq': 4, 'min_child_samples': 48, 'learning_rate': 0.0007238088268110638, 'max_depth': 4}. Best is trial 27 with value: 0.00011116662389363848.\u001b[0m\n"
     ]
    },
    {
     "name": "stdout",
     "output_type": "stream",
     "text": [
      "Best Loss: 0.01082\n",
      "Best model saved to models/loan_ml_prediction-trial=0-val_loss=0.01.txt\n"
     ]
    },
    {
     "name": "stderr",
     "output_type": "stream",
     "text": [
      "\u001b[32m[I 2023-12-03 00:46:54,494]\u001b[0m Trial 35 finished with value: 0.00011522166190401523 and parameters: {'lambda_l1': 3.559744327469911e-07, 'lambda_l2': 0.00117990878643906, 'num_leaves': 174, 'feature_fraction': 0.9793126077021352, 'bagging_fraction': 0.6051102405999292, 'bagging_freq': 4, 'min_child_samples': 71, 'learning_rate': 0.0006475283726755407, 'max_depth': 4}. Best is trial 27 with value: 0.00011116662389363848.\u001b[0m\n"
     ]
    },
    {
     "name": "stdout",
     "output_type": "stream",
     "text": [
      "Best Loss: 0.01073\n",
      "Best model saved to models/loan_ml_prediction-trial=0-val_loss=0.01.txt\n"
     ]
    },
    {
     "name": "stderr",
     "output_type": "stream",
     "text": [
      "\u001b[32m[I 2023-12-03 00:46:56,350]\u001b[0m Trial 36 finished with value: 0.00011214121975746266 and parameters: {'lambda_l1': 0.0010919933384074525, 'lambda_l2': 1.0570876905215933e-07, 'num_leaves': 140, 'feature_fraction': 0.8004062367137641, 'bagging_fraction': 0.8340249794766714, 'bagging_freq': 2, 'min_child_samples': 69, 'learning_rate': 0.0002658586524599659, 'max_depth': 6}. Best is trial 27 with value: 0.00011116662389363848.\u001b[0m\n"
     ]
    },
    {
     "name": "stdout",
     "output_type": "stream",
     "text": [
      "Best Loss: 0.01059\n",
      "Best model saved to models/loan_ml_prediction-trial=0-val_loss=0.01.txt\n",
      "Best Loss: 0.01075\n",
      "Best model saved to models/loan_ml_prediction-trial=0-val_loss=0.01.txt\n"
     ]
    },
    {
     "name": "stderr",
     "output_type": "stream",
     "text": [
      "\u001b[32m[I 2023-12-03 00:46:59,380]\u001b[0m Trial 37 finished with value: 0.00011558564293256218 and parameters: {'lambda_l1': 0.0004060538810467486, 'lambda_l2': 9.664884515219978e-05, 'num_leaves': 222, 'feature_fraction': 0.9004928570777957, 'bagging_fraction': 0.7459889811048762, 'bagging_freq': 6, 'min_child_samples': 71, 'learning_rate': 0.0015914844007356838, 'max_depth': 8}. Best is trial 27 with value: 0.00011116662389363848.\u001b[0m\n"
     ]
    },
    {
     "name": "stdout",
     "output_type": "stream",
     "text": [
      "Best Loss: 0.01059\n",
      "Best model saved to models/loan_ml_prediction-trial=0-val_loss=0.01.txt\n"
     ]
    },
    {
     "name": "stderr",
     "output_type": "stream",
     "text": [
      "\u001b[32m[I 2023-12-03 00:47:01,750]\u001b[0m Trial 38 finished with value: 0.000112215962529804 and parameters: {'lambda_l1': 1.8959115373451144e-08, 'lambda_l2': 2.058041658784325e-05, 'num_leaves': 130, 'feature_fraction': 0.8023689650163903, 'bagging_fraction': 0.6578388121785492, 'bagging_freq': 6, 'min_child_samples': 71, 'learning_rate': 0.001079255018160138, 'max_depth': 6}. Best is trial 27 with value: 0.00011116662389363848.\u001b[0m\n",
      "\u001b[32m[I 2023-12-03 00:47:03,750]\u001b[0m Trial 39 finished with value: 0.00011123745565757747 and parameters: {'lambda_l1': 1.4694257621720425e-07, 'lambda_l2': 2.1854794198045752e-05, 'num_leaves': 90, 'feature_fraction': 0.9826329918335903, 'bagging_fraction': 0.6450574896932958, 'bagging_freq': 7, 'min_child_samples': 62, 'learning_rate': 0.0004457721192225198, 'max_depth': 7}. Best is trial 27 with value: 0.00011116662389363848.\u001b[0m\n"
     ]
    },
    {
     "name": "stdout",
     "output_type": "stream",
     "text": [
      "Best Loss: 0.01055\n",
      "Best model saved to models/loan_ml_prediction-trial=0-val_loss=0.01.txt\n",
      "Best trial: 0.00011116662389363848\n"
     ]
    }
   ],
   "source": [
    "torch.set_float32_matmul_precision('high')\n",
    "study = optuna.create_study(\n",
    "    direction='minimize',\n",
    "    pruner=optuna.pruners.MedianPruner(n_startup_trials=5, n_warmup_steps=10, interval_steps=5),\n",
    "    sampler=optuna.samplers.TPESampler(multivariate=True, group=True, seed=42)\n",
    "    )\n",
    "study.optimize(trial_run_lgb, n_trials=40)\n",
    "print(f'Best trial: {study.best_trial.value}')"
   ]
  },
  {
   "cell_type": "code",
   "execution_count": 15,
   "metadata": {},
   "outputs": [],
   "source": [
    "def flatten_list(list_of_lists, flat_list=None):\n",
    "    if not flat_list:\n",
    "        flat_list = []\n",
    "    if not list_of_lists:\n",
    "        return flat_list\n",
    "    else:\n",
    "        for item in list_of_lists:\n",
    "            if type(item) == list:\n",
    "                flatten_list(item, flat_list)\n",
    "            else:\n",
    "                flat_list.append(item)\n",
    "\n",
    "    return flat_list"
   ]
  },
  {
   "cell_type": "code",
   "execution_count": 16,
   "metadata": {},
   "outputs": [],
   "source": [
    "# Get BORROWER_ID and keep only the rows in df which contains the BORROWER_ID from df_submission\n",
    "df_submission = pd.read_csv('data/data_submission_example.csv', sep=',', header=0, index_col=False)"
   ]
  },
  {
   "cell_type": "code",
   "execution_count": 17,
   "metadata": {},
   "outputs": [
    {
     "name": "stdout",
     "output_type": "stream",
     "text": [
      "Target event unique values ['-' 'K' 'E']\n",
      "Target event unique values count TARGET_EVENT\n",
      "-    1548364\n",
      "E      43515\n",
      "K      10874\n",
      "Name: count, dtype: int64\n"
     ]
    }
   ],
   "source": [
    "# Number of unique TARGET_EVENT values and their count\n",
    "df = original_df.copy()\n",
    "print(f'Target event unique values', df['TARGET_EVENT'].unique())\n",
    "print(f'Target event unique values count', df['TARGET_EVENT'].value_counts())"
   ]
  },
  {
   "cell_type": "code",
   "execution_count": 18,
   "metadata": {},
   "outputs": [
    {
     "name": "stdout",
     "output_type": "stream",
     "text": [
      "Shared BORROWER_ID elements between df_submission and df 1117674\n",
      "Shared BORROWER_ID elements between df_submission and df after filtering 1564601\n",
      "Number of unique BORROWER_ID in df 1117674\n"
     ]
    }
   ],
   "source": [
    "df = original_df.copy()\n",
    "print(f'Shared BORROWER_ID elements between df_submission and df', len(set(df_submission['BORROWER_ID'].unique()).intersection(df['BORROWER_ID'].unique())))\n",
    "# Keep only the rows in df which contains the BORROWER_ID from df_submission\n",
    "df = df[df['BORROWER_ID'].isin(df_submission['BORROWER_ID'].unique())]\n",
    "print(f'Shared BORROWER_ID elements between df_submission and df after filtering', len(df))\n",
    "print(f'Number of unique BORROWER_ID in df', len(df['BORROWER_ID'].unique()))"
   ]
  },
  {
   "cell_type": "code",
   "execution_count": 19,
   "metadata": {},
   "outputs": [],
   "source": [
    "keep_prediction_columns = [\n",
    "    # 'CONTRACT_BANK_ID',\n",
    "    'CONTRACT_CREDIT_INTERMEDIARY',\n",
    "    # 'CONTRACT_CURRENCY',\n",
    "    'CONTRACT_FREQUENCY_TYPE',\n",
    "    # 'CONTRACT_INCOME',\n",
    "    # 'BORROWER_CITIZENSHIP',\n",
    "    # 'BORROWER_COUNTRY',\n",
    "    # 'BORROWER_COUNTY',\n",
    "    'BORROWER_TYPE_OF_CUSTOMER',\n",
    "    'BORROWER_TYPE_OF_SETTLEMENT',\n",
    "    # 'TARGET_EVENT',\n",
    "    # 'TARGET',\n",
    "]"
   ]
  },
  {
   "cell_type": "code",
   "execution_count": 22,
   "metadata": {},
   "outputs": [
    {
     "name": "stdout",
     "output_type": "stream",
     "text": [
      "DF length 1564601\n",
      "DF Submission length 1117674\n",
      "Loaded model from models/loan_ml_prediction-trial=0-val_loss=0.01.txt\n"
     ]
    }
   ],
   "source": [
    "df = original_df.copy()\n",
    "# Keep only the rows in df which contains the BORROWER_ID from df_submission\n",
    "df = df[df['BORROWER_ID'].isin(df_submission['BORROWER_ID'].unique())]\n",
    "\n",
    "# Convert categorical features to numerical values\n",
    "df[keep_prediction_columns] = df[keep_prediction_columns].apply(lambda x: pd.factorize(x)[0])\n",
    "\n",
    "print(f'DF length', len(df))\n",
    "print(f'DF Submission length', len(df_submission))\n",
    "\n",
    "borrower_ids_from_enum = {idx: value for idx, value in enumerate(df['BORROWER_ID'].unique())}\n",
    "# Remove 'TARGET' from keep_columns\n",
    "df = apply_transformations(tfs, df)\n",
    "\n",
    "# Select columns for validation\n",
    "val_x = df[keep_prediction_columns]\n",
    "\n",
    "# Convert to float if necessary\n",
    "val_x_float = val_x.astype(float)\n",
    "\n",
    "# Load the trained LightGBM model\n",
    "model_path = None\n",
    "\n",
    "for file in os.listdir('models/'):\n",
    "    if file.startswith('loan_ml_prediction') and file.endswith('.txt'):\n",
    "        # Check if loss is lower than current checkpoint\n",
    "        if model_path is None:\n",
    "            model_path = f'models/{file}'\n",
    "            continue\n",
    "        # loan_ml_prediction-epoch=0-val_loss=2.59-v5.txt\n",
    "        # loan_ml_prediction-epoch=0-val_loss=2.59.txt\n",
    "        # Get the 2.59 as float\n",
    "        file_loss = float(file.removesuffix('.txt').split('=')[2].split('-')[0])\n",
    "        current_loss = float(model_path.removesuffix('.txt').split('=')[2].split('-')[0])\n",
    "        if float(file_loss < current_loss):\n",
    "            model_path = f'models/{file}'\n",
    "\n",
    "if model_path is None:\n",
    "    raise Exception('No checkpoint found')\n",
    "# model_path = 'models/loan_ml_prediction-trial=0-val_loss=0.01.txt'  # Replace with your model's filename\n",
    "\n",
    "# Increase max_bin parameter to avoid bad allocation error\n",
    "params = {\n",
    "    'max_bin': 512 * 16,  # Increase this value as needed\n",
    "}\n",
    "\n",
    "if best_gbm is not None:\n",
    "    bst = best_gbm\n",
    "else:\n",
    "    bst = lgb.Booster(model_file=model_path)\n",
    "\n",
    "print(f'Loaded model from {model_path}')\n",
    "\n",
    "# Make predictions\n",
    "predictions = bst.predict(val_x_float)\n",
    "\n",
    "# Map predictions back to borrower IDs\n",
    "df['PRED'] = predictions\n",
    "unique_preds = df.groupby('BORROWER_ID')['PRED'].mean()\n",
    "unique_borrowers = df['BORROWER_ID'].map(borrower_ids_from_enum).unique()\n",
    "df_submission = pd.DataFrame({'BORROWER_ID': unique_borrowers, 'PRED': unique_preds})\n",
    "\n",
    "# Optionally, normalize or adjust the predictions as needed\n",
    "# For example, if you need to normalize to a specific average value:\n",
    "# target_average = 0.0148\n",
    "# df_submission['PRED'] = df_submission['PRED'] / df_submission['PRED'].mean() * target_average\n",
    "\n",
    "# Save the predictions\n",
    "df_submission.to_csv('data/predictions.csv', index=False)\n"
   ]
  },
  {
   "cell_type": "code",
   "execution_count": 21,
   "metadata": {},
   "outputs": [
    {
     "name": "stdout",
     "output_type": "stream",
     "text": [
      "DF length 1564601\n",
      "DF Submission length 1117674\n"
     ]
    },
    {
     "ename": "KeyError",
     "evalue": "\"['TARGET'] not in index\"",
     "output_type": "error",
     "traceback": [
      "\u001b[1;31m---------------------------------------------------------------------------\u001b[0m",
      "\u001b[1;31mKeyError\u001b[0m                                  Traceback (most recent call last)",
      "\u001b[1;32mg:\\My Drive\\School\\S9\\Gépi Tanulási Esettanulmányok\\dataracing-2023\\loan_ml_prediction.ipynb Cell 22\u001b[0m line \u001b[0;36m1\n\u001b[0;32m     <a href='vscode-notebook-cell:/g%3A/My%20Drive/School/S9/G%C3%A9pi%20Tanul%C3%A1si%20Esettanulm%C3%A1nyok/dataracing-2023/loan_ml_prediction.ipynb#X30sZmlsZQ%3D%3D?line=13'>14</a>\u001b[0m borrower_ids_from_enum \u001b[39m=\u001b[39m {idx: value \u001b[39mfor\u001b[39;00m idx, value \u001b[39min\u001b[39;00m \u001b[39menumerate\u001b[39m(df[\u001b[39m'\u001b[39m\u001b[39mBORROWER_ID\u001b[39m\u001b[39m'\u001b[39m]\u001b[39m.\u001b[39munique())}\n\u001b[0;32m     <a href='vscode-notebook-cell:/g%3A/My%20Drive/School/S9/G%C3%A9pi%20Tanul%C3%A1si%20Esettanulm%C3%A1nyok/dataracing-2023/loan_ml_prediction.ipynb#X30sZmlsZQ%3D%3D?line=14'>15</a>\u001b[0m df \u001b[39m=\u001b[39m apply_transformations(tfs, df)\n\u001b[1;32m---> <a href='vscode-notebook-cell:/g%3A/My%20Drive/School/S9/G%C3%A9pi%20Tanul%C3%A1si%20Esettanulm%C3%A1nyok/dataracing-2023/loan_ml_prediction.ipynb#X30sZmlsZQ%3D%3D?line=16'>17</a>\u001b[0m val_x \u001b[39m=\u001b[39m df[keep_columns]\u001b[39m.\u001b[39mdrop(columns\u001b[39m=\u001b[39m[\u001b[39m'\u001b[39m\u001b[39mTARGET_EVENT\u001b[39m\u001b[39m'\u001b[39m]) \u001b[39m# Drop target column from training data\u001b[39;00m\n\u001b[0;32m     <a href='vscode-notebook-cell:/g%3A/My%20Drive/School/S9/G%C3%A9pi%20Tanul%C3%A1si%20Esettanulm%C3%A1nyok/dataracing-2023/loan_ml_prediction.ipynb#X30sZmlsZQ%3D%3D?line=17'>18</a>\u001b[0m val_y \u001b[39m=\u001b[39m df[\u001b[39m'\u001b[39m\u001b[39mTARGET_EVENT\u001b[39m\u001b[39m'\u001b[39m] \u001b[39m# Target column\u001b[39;00m\n\u001b[0;32m     <a href='vscode-notebook-cell:/g%3A/My%20Drive/School/S9/G%C3%A9pi%20Tanul%C3%A1si%20Esettanulm%C3%A1nyok/dataracing-2023/loan_ml_prediction.ipynb#X30sZmlsZQ%3D%3D?line=19'>20</a>\u001b[0m val_x_float \u001b[39m=\u001b[39m val_x\u001b[39m.\u001b[39mastype(\u001b[39mfloat\u001b[39m)\n",
      "File \u001b[1;32m~\\AppData\\Local\\Packages\\PythonSoftwareFoundation.Python.3.11_qbz5n2kfra8p0\\LocalCache\\local-packages\\Python311\\site-packages\\pandas\\core\\frame.py:3899\u001b[0m, in \u001b[0;36mDataFrame.__getitem__\u001b[1;34m(self, key)\u001b[0m\n\u001b[0;32m   3897\u001b[0m     \u001b[39mif\u001b[39;00m is_iterator(key):\n\u001b[0;32m   3898\u001b[0m         key \u001b[39m=\u001b[39m \u001b[39mlist\u001b[39m(key)\n\u001b[1;32m-> 3899\u001b[0m     indexer \u001b[39m=\u001b[39m \u001b[39mself\u001b[39;49m\u001b[39m.\u001b[39;49mcolumns\u001b[39m.\u001b[39;49m_get_indexer_strict(key, \u001b[39m\"\u001b[39;49m\u001b[39mcolumns\u001b[39;49m\u001b[39m\"\u001b[39;49m)[\u001b[39m1\u001b[39m]\n\u001b[0;32m   3901\u001b[0m \u001b[39m# take() does not accept boolean indexers\u001b[39;00m\n\u001b[0;32m   3902\u001b[0m \u001b[39mif\u001b[39;00m \u001b[39mgetattr\u001b[39m(indexer, \u001b[39m\"\u001b[39m\u001b[39mdtype\u001b[39m\u001b[39m\"\u001b[39m, \u001b[39mNone\u001b[39;00m) \u001b[39m==\u001b[39m \u001b[39mbool\u001b[39m:\n",
      "File \u001b[1;32m~\\AppData\\Local\\Packages\\PythonSoftwareFoundation.Python.3.11_qbz5n2kfra8p0\\LocalCache\\local-packages\\Python311\\site-packages\\pandas\\core\\indexes\\base.py:6114\u001b[0m, in \u001b[0;36mIndex._get_indexer_strict\u001b[1;34m(self, key, axis_name)\u001b[0m\n\u001b[0;32m   6111\u001b[0m \u001b[39melse\u001b[39;00m:\n\u001b[0;32m   6112\u001b[0m     keyarr, indexer, new_indexer \u001b[39m=\u001b[39m \u001b[39mself\u001b[39m\u001b[39m.\u001b[39m_reindex_non_unique(keyarr)\n\u001b[1;32m-> 6114\u001b[0m \u001b[39mself\u001b[39;49m\u001b[39m.\u001b[39;49m_raise_if_missing(keyarr, indexer, axis_name)\n\u001b[0;32m   6116\u001b[0m keyarr \u001b[39m=\u001b[39m \u001b[39mself\u001b[39m\u001b[39m.\u001b[39mtake(indexer)\n\u001b[0;32m   6117\u001b[0m \u001b[39mif\u001b[39;00m \u001b[39misinstance\u001b[39m(key, Index):\n\u001b[0;32m   6118\u001b[0m     \u001b[39m# GH 42790 - Preserve name from an Index\u001b[39;00m\n",
      "File \u001b[1;32m~\\AppData\\Local\\Packages\\PythonSoftwareFoundation.Python.3.11_qbz5n2kfra8p0\\LocalCache\\local-packages\\Python311\\site-packages\\pandas\\core\\indexes\\base.py:6178\u001b[0m, in \u001b[0;36mIndex._raise_if_missing\u001b[1;34m(self, key, indexer, axis_name)\u001b[0m\n\u001b[0;32m   6175\u001b[0m     \u001b[39mraise\u001b[39;00m \u001b[39mKeyError\u001b[39;00m(\u001b[39mf\u001b[39m\u001b[39m\"\u001b[39m\u001b[39mNone of [\u001b[39m\u001b[39m{\u001b[39;00mkey\u001b[39m}\u001b[39;00m\u001b[39m] are in the [\u001b[39m\u001b[39m{\u001b[39;00maxis_name\u001b[39m}\u001b[39;00m\u001b[39m]\u001b[39m\u001b[39m\"\u001b[39m)\n\u001b[0;32m   6177\u001b[0m not_found \u001b[39m=\u001b[39m \u001b[39mlist\u001b[39m(ensure_index(key)[missing_mask\u001b[39m.\u001b[39mnonzero()[\u001b[39m0\u001b[39m]]\u001b[39m.\u001b[39munique())\n\u001b[1;32m-> 6178\u001b[0m \u001b[39mraise\u001b[39;00m \u001b[39mKeyError\u001b[39;00m(\u001b[39mf\u001b[39m\u001b[39m\"\u001b[39m\u001b[39m{\u001b[39;00mnot_found\u001b[39m}\u001b[39;00m\u001b[39m not in index\u001b[39m\u001b[39m\"\u001b[39m)\n",
      "\u001b[1;31mKeyError\u001b[0m: \"['TARGET'] not in index\""
     ]
    }
   ],
   "source": [
    "df = original_df.copy()\n",
    "# Keep only the rows in df which contains the BORROWER_ID from df_submission\n",
    "df = df[df['BORROWER_ID'].isin(df_submission['BORROWER_ID'].unique())]\n",
    "\n",
    "# df = df[df['BORROWER_ID'].isin(df_submission['BORROWER_ID'])]\n",
    "# print(df.head())\n",
    "# number of rows in df where TARGET_EVENT is NaN\n",
    "# df = df[df['TARGET_EVENT'] != '-']\n",
    "# print(f'DF without target event length', len(df[df['TARGET_EVENT'] != '-']))\n",
    "print(f'DF length', len(df))\n",
    "# number of rows in df_submission\n",
    "print(f'DF Submission length', len(df_submission))\n",
    "\n",
    "borrower_ids_from_enum = {idx: value for idx, value in enumerate(df['BORROWER_ID'].unique())}\n",
    "df = apply_transformations(tfs, df)\n",
    "\n",
    "val_x = df[keep_columns].drop(columns=['TARGET_EVENT']) # Drop target column from training data\n",
    "val_y = df['TARGET_EVENT'] # Target column\n",
    "\n",
    "val_x_float = val_x.astype(float)\n",
    "val_y_float = val_y.astype(float)\n",
    "\n",
    "val_data_module = PropertyDataModule(batch_size=32, train_x=val_x_float, test_x=val_x_float, train_y=val_y, test_y=val_y)\n",
    "\n",
    "checkpoint_path = None\n",
    "# Load lowest loss checkpoint (dirname = models, filename = loan_ml_prediction-{epoch}-{val_loss:.2f})\n",
    "for file in os.listdir('models/'):\n",
    "    if file.startswith('loan_ml_prediction') and file.endswith('.ckpt'):\n",
    "        # Check if loss is lower than current checkpoint\n",
    "        if checkpoint_path is None:\n",
    "            checkpoint_path = f'models/{file}'\n",
    "            continue\n",
    "        # loan_ml_prediction-epoch=0-val_loss=2.59-v5.ckpt\n",
    "        # loan_ml_prediction-epoch=0-val_loss=2.59.ckpt\n",
    "        # Get the 2.59 as float\n",
    "        file_loss = float(file.removesuffix('.ckpt').split('=')[2].split('-')[0])\n",
    "        current_loss = float(checkpoint_path.removesuffix('.ckpt').split('=')[2].split('-')[0])\n",
    "        if float(file_loss < current_loss):\n",
    "            checkpoint_path = f'models/{file}'\n",
    "\n",
    "if checkpoint_path is None:\n",
    "    raise Exception('No checkpoint found')\n",
    "# checkpoint_path = 'models/loan_ml_prediction-epoch=26-val_loss=0.05.ckpt'\n",
    "net = DeepNN.load_from_checkpoint(checkpoint_path)\n",
    "net.eval()\n",
    "\n",
    "print(f'Loaded checkpoint {checkpoint_path} with hparams {net.hparams}')\n",
    "\n",
    "df_submission = pd.read_csv('data/data_submission_example.csv', sep=',', header=0, index_col=False)\n",
    "\n",
    "class CustomWriter(BasePredictionWriter):\n",
    "    def __init__(self, output_dir, write_interval):\n",
    "        super().__init__(write_interval)\n",
    "        self.output_dir = output_dir\n",
    "\n",
    "    def write_on_epoch_end(self, trainer, pl_module, predictions, batch_indices):\n",
    "        global df_submission\n",
    "        global df\n",
    "        # print(f'Raw Predictions', predictions)\n",
    "        # Predictions is a list of tensors, make it a single list\n",
    "        # Last is a 0 dim tensor, make it a list first\n",
    "        predictions = [p.tolist() for p in predictions]\n",
    "        predictions = [element for sublist in predictions for element in (sublist if isinstance(sublist, list) else [sublist])]\n",
    "        # New column in df: PRED with predictions\n",
    "        df['PRED'] = predictions\n",
    "        # Group by BORROWER_ID and get the mean of PRED\n",
    "        # Need to subtract PRED from 1\n",
    "        unique_preds = 1 - df.groupby('BORROWER_ID')['PRED'].mean()\n",
    "        unique_borrowers = df['BORROWER_ID'].map(borrower_ids_from_enum).unique()\n",
    "        df = pd.DataFrame({'BORROWER_ID': unique_borrowers, 'PRED': unique_preds})\n",
    "        df.describe()\n",
    "        # Keep rows which appear in BORROWER_ID from df_submission\n",
    "        # df = df[df['BORROWER_ID'].isin(df_submission['BORROWER_ID'].unique())]\n",
    "        # Normalize PRED column values to avarage 0.0148\n",
    "        # df['PRED'] = df['PRED'] / df['PRED'].mean() * 0.0148 # This is wrong\n",
    "        df.to_csv('data/predictions.csv', index=False)\n",
    "        # Keep only BORROWER_ID and PRED columns\n",
    "        # print(f'Submissions DataFrame size', len(df_submission))\n",
    "\n",
    "pred_writer = CustomWriter(output_dir=\"pred_path\", write_interval=\"epoch\")\n",
    "trainer = Trainer(accelerator='gpu', callbacks=[pred_writer])\n",
    "# predictions = trainer.predict(net, datamodule=val_data_module, return_predictions=True)\n",
    "# predictions = trainer.pred\n",
    "# print(predictions)\n",
    "\n",
    "# if len(predicted_values) != len(df_submission):\n",
    "#     raise ValueError(\"Length of predictions does not match length of submission DataFrame.\")\n",
    "\n",
    "# df_submission['PRED'] = predicted_values\n",
    "# df_submission.to_csv('data/predictions.csv', index=False)"
   ]
  }
 ],
 "metadata": {
  "kernelspec": {
   "display_name": "Python 3",
   "language": "python",
   "name": "python3"
  },
  "language_info": {
   "codemirror_mode": {
    "name": "ipython",
    "version": 3
   },
   "file_extension": ".py",
   "mimetype": "text/x-python",
   "name": "python",
   "nbconvert_exporter": "python",
   "pygments_lexer": "ipython3",
   "version": "3.11.6"
  }
 },
 "nbformat": 4,
 "nbformat_minor": 2
}
